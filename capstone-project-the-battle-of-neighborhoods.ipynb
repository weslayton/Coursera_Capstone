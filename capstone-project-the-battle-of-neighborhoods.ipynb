{
 "cells": [
  {
   "cell_type": "markdown",
   "metadata": {},
   "source": [
    "# Pharmacy Density in Toronto: Increasing Access to Medicine\n",
    "\n",
    "## Introduction / Business Problem\n",
    "\n",
    "In the city of Toronto, with an approximate population of 6,341,935, there is a need for advanced and expanding health infrastructure. Within healthcare, pharmacy and prescription drugs are at the forefront of discussion with rising costs. With barriers already in the form of costs, it is important for the health of a population to be able to access these drugs conveniently and adhere to the guidelines given. \n",
    "\n",
    "I will seek to find the neighborhoods in Toronto where there is a lack of pharmacies and hopefully identify the single neighborhood with the greatest need. This information could be key for any investors that are looking to open an independent pharmacy, or for recent pharmacy graduates that are also looking to open and run their own independent pharmacy. By contextualizing the neighborhoods in terms of the density of pharmacies and neighborhood population, they will be able to make decisions to best serve the greater Toronto area and its citizens.\n",
    "\n",
    "## Data\n",
    "\n",
    "I will use Foursquare location data and web scraped postal codes from Wikipedia to be able to analyze neighborhoods and their pharmacy density. This data will be drawn through Foursquare's API by defining the search parameters for each neighborhood as nearby pharmacies and then joining this to our postal codes for the Toronto area. \n",
    "\n",
    "I will also be using population data from the 2016 census that is available through the Statistics Canada government website in CSV format (https://www12.statcan.gc.ca/census-recensement/2016/dp-pd/hlt-fst/pd-pl/Table.cfm?Lang=Eng&T=1201&S=22&O=A). This data contains raw population numbers for each postal code and will also be joined to our data frame so that we are able to contextualize the need for pharmacies as it is compared to the total population of the postal code.\n"
   ]
  }
 ],
 "metadata": {
  "kernelspec": {
   "display_name": "Python 3",
   "language": "python",
   "name": "python3"
  },
  "language_info": {
   "codemirror_mode": {
    "name": "ipython",
    "version": 3
   },
   "file_extension": ".py",
   "mimetype": "text/x-python",
   "name": "python",
   "nbconvert_exporter": "python",
   "pygments_lexer": "ipython3",
   "version": "3.6.6"
  }
 },
 "nbformat": 4,
 "nbformat_minor": 4
}
